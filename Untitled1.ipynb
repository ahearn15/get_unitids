{
 "cells": [
  {
   "cell_type": "code",
   "execution_count": null,
   "metadata": {},
   "outputs": [],
   "source": [
    "!python setup.py sdist bdist_wheel"
   ]
  },
  {
   "cell_type": "code",
   "execution_count": null,
   "metadata": {},
   "outputs": [],
   "source": [
    "!twine upload --repository-url https://test.pypi.org/legacy/ dist/*"
   ]
  },
  {
   "cell_type": "code",
   "execution_count": null,
   "metadata": {},
   "outputs": [],
   "source": [
    "twine check dist/*"
   ]
  },
  {
   "cell_type": "code",
   "execution_count": 1,
   "metadata": {},
   "outputs": [
    {
     "name": "stdout",
     "output_type": "stream",
     "text": [
      "Requirement already up-to-date: pyOpenSSL in c:\\users\\ahearn\\anaconda3\\lib\\site-packages (19.1.0)\n",
      "Requirement already satisfied, skipping upgrade: six>=1.5.2 in c:\\users\\ahearn\\anaconda3\\lib\\site-packages (from pyOpenSSL) (1.14.0)\n",
      "Requirement already satisfied, skipping upgrade: cryptography>=2.8 in c:\\users\\ahearn\\anaconda3\\lib\\site-packages (from pyOpenSSL) (2.8)\n",
      "Requirement already satisfied, skipping upgrade: cffi!=1.11.3,>=1.8 in c:\\users\\ahearn\\anaconda3\\lib\\site-packages (from cryptography>=2.8->pyOpenSSL) (1.14.0)\n",
      "Requirement already satisfied, skipping upgrade: pycparser in c:\\users\\ahearn\\anaconda3\\lib\\site-packages (from cffi!=1.11.3,>=1.8->cryptography>=2.8->pyOpenSSL) (2.19)\n"
     ]
    }
   ],
   "source": [
    "!pip install --upgrade pyOpenSSL"
   ]
  },
  {
   "cell_type": "code",
   "execution_count": 2,
   "metadata": {},
   "outputs": [
    {
     "name": "stdout",
     "output_type": "stream",
     "text": [
      "Requirement already satisfied: pyOpenSSL in c:\\users\\ahearn\\anaconda3\\lib\\site-packages (19.1.0)\n",
      "Collecting ndg-httpsclient\n",
      "  Downloading ndg_httpsclient-0.5.1-py3-none-any.whl (34 kB)\n",
      "Collecting pyasn1\n",
      "  Downloading pyasn1-0.4.8-py2.py3-none-any.whl (77 kB)\n",
      "Requirement already satisfied: six>=1.5.2 in c:\\users\\ahearn\\anaconda3\\lib\\site-packages (from pyOpenSSL) (1.14.0)\n",
      "Requirement already satisfied: cryptography>=2.8 in c:\\users\\ahearn\\anaconda3\\lib\\site-packages (from pyOpenSSL) (2.8)\n",
      "Requirement already satisfied: cffi!=1.11.3,>=1.8 in c:\\users\\ahearn\\anaconda3\\lib\\site-packages (from cryptography>=2.8->pyOpenSSL) (1.14.0)\n",
      "Requirement already satisfied: pycparser in c:\\users\\ahearn\\anaconda3\\lib\\site-packages (from cffi!=1.11.3,>=1.8->cryptography>=2.8->pyOpenSSL) (2.19)\n",
      "Installing collected packages: pyasn1, ndg-httpsclient\n",
      "Successfully installed ndg-httpsclient-0.5.1 pyasn1-0.4.8\n"
     ]
    }
   ],
   "source": [
    "!pip install pyOpenSSL ndg-httpsclient pyasn1"
   ]
  },
  {
   "cell_type": "code",
   "execution_count": 4,
   "metadata": {},
   "outputs": [
    {
     "name": "stdout",
     "output_type": "stream",
     "text": [
      "Requirement already up-to-date: twine in c:\\users\\ahearn\\anaconda3\\lib\\site-packages (3.2.0)\n",
      "Requirement already satisfied, skipping upgrade: importlib-metadata; python_version < \"3.8\" in c:\\users\\ahearn\\anaconda3\\lib\\site-packages (from twine) (1.5.0)\n",
      "Requirement already satisfied, skipping upgrade: colorama>=0.4.3 in c:\\users\\ahearn\\anaconda3\\lib\\site-packages (from twine) (0.4.3)\n",
      "Requirement already satisfied, skipping upgrade: pkginfo>=1.4.2 in c:\\users\\ahearn\\anaconda3\\lib\\site-packages (from twine) (1.5.0.1)\n",
      "Requirement already satisfied, skipping upgrade: rfc3986>=1.4.0 in c:\\users\\ahearn\\anaconda3\\lib\\site-packages (from twine) (1.4.0)\n",
      "Requirement already satisfied, skipping upgrade: requests>=2.20 in c:\\users\\ahearn\\anaconda3\\lib\\site-packages (from twine) (2.22.0)\n",
      "Requirement already satisfied, skipping upgrade: setuptools>=0.7.0 in c:\\users\\ahearn\\anaconda3\\lib\\site-packages (from twine) (45.2.0.post20200210)\n",
      "Requirement already satisfied, skipping upgrade: tqdm>=4.14 in c:\\users\\ahearn\\anaconda3\\lib\\site-packages (from twine) (4.42.1)\n",
      "Requirement already satisfied, skipping upgrade: requests-toolbelt!=0.9.0,>=0.8.0 in c:\\users\\ahearn\\anaconda3\\lib\\site-packages (from twine) (0.9.1)\n",
      "Requirement already satisfied, skipping upgrade: keyring>=15.1 in c:\\users\\ahearn\\anaconda3\\lib\\site-packages (from twine) (21.1.0)\n",
      "Requirement already satisfied, skipping upgrade: readme-renderer>=21.0 in c:\\users\\ahearn\\anaconda3\\lib\\site-packages (from twine) (26.0)\n",
      "Requirement already satisfied, skipping upgrade: zipp>=0.5 in c:\\users\\ahearn\\anaconda3\\lib\\site-packages (from importlib-metadata; python_version < \"3.8\"->twine) (2.2.0)\n",
      "Requirement already satisfied, skipping upgrade: certifi>=2017.4.17 in c:\\users\\ahearn\\anaconda3\\lib\\site-packages (from requests>=2.20->twine) (2019.11.28)\n",
      "Requirement already satisfied, skipping upgrade: chardet<3.1.0,>=3.0.2 in c:\\users\\ahearn\\anaconda3\\lib\\site-packages (from requests>=2.20->twine) (3.0.4)\n",
      "Requirement already satisfied, skipping upgrade: urllib3!=1.25.0,!=1.25.1,<1.26,>=1.21.1 in c:\\users\\ahearn\\anaconda3\\lib\\site-packages (from requests>=2.20->twine) (1.25.8)\n",
      "Requirement already satisfied, skipping upgrade: idna<2.9,>=2.5 in c:\\users\\ahearn\\anaconda3\\lib\\site-packages (from requests>=2.20->twine) (2.8)\n",
      "Requirement already satisfied, skipping upgrade: pywin32-ctypes!=0.1.0,!=0.1.1; sys_platform == \"win32\" in c:\\users\\ahearn\\anaconda3\\lib\\site-packages (from keyring>=15.1->twine) (0.2.0)\n",
      "Requirement already satisfied, skipping upgrade: six in c:\\users\\ahearn\\anaconda3\\lib\\site-packages (from readme-renderer>=21.0->twine) (1.14.0)\n",
      "Requirement already satisfied, skipping upgrade: bleach>=2.1.0 in c:\\users\\ahearn\\anaconda3\\lib\\site-packages (from readme-renderer>=21.0->twine) (3.1.0)\n",
      "Requirement already satisfied, skipping upgrade: Pygments>=2.5.1 in c:\\users\\ahearn\\anaconda3\\lib\\site-packages (from readme-renderer>=21.0->twine) (2.5.2)\n",
      "Requirement already satisfied, skipping upgrade: docutils>=0.13.1 in c:\\users\\ahearn\\anaconda3\\lib\\site-packages (from readme-renderer>=21.0->twine) (0.16)\n",
      "Requirement already satisfied, skipping upgrade: webencodings in c:\\users\\ahearn\\anaconda3\\lib\\site-packages (from bleach>=2.1.0->readme-renderer>=21.0->twine) (0.5.1)\n"
     ]
    }
   ],
   "source": [
    "!pip install --upgrade twine --user"
   ]
  },
  {
   "cell_type": "code",
   "execution_count": null,
   "metadata": {},
   "outputs": [],
   "source": []
  }
 ],
 "metadata": {
  "kernelspec": {
   "display_name": "Python 3",
   "language": "python",
   "name": "python3"
  },
  "language_info": {
   "codemirror_mode": {
    "name": "ipython",
    "version": 3
   },
   "file_extension": ".py",
   "mimetype": "text/x-python",
   "name": "python",
   "nbconvert_exporter": "python",
   "pygments_lexer": "ipython3",
   "version": "3.7.6"
  }
 },
 "nbformat": 4,
 "nbformat_minor": 4
}
